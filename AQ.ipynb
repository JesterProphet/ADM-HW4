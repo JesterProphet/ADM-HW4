{
 "cells": [
  {
   "cell_type": "markdown",
   "id": "6187de73",
   "metadata": {},
   "source": [
    "# ALGORITHMIC QUESTION"
   ]
  },
  {
   "cell_type": "markdown",
   "id": "82035861",
   "metadata": {},
   "source": [
    "## **a) Recursive version of the algorithm**\n",
    "\n",
    "Let's implement a recursive function that explores all possible combinations of a list of 'marks' (the exams the student can choose) and calculates the maximum score the student can achieve among all combinations.\n",
    "\n",
    "So, the function will take **marks** as the list of exams,\n",
    "\n",
    "**S** as the initial score of the student,\n",
    "\n",
    "**n** as the length of marks,\n",
    "\n",
    "**s** as an empty list that we will use to store the results of various combinations."
   ]
  },
  {
   "cell_type": "code",
   "execution_count": 6,
   "id": "54bb47d2",
   "metadata": {},
   "outputs": [],
   "source": [
    "def recursive_function(marks, S, n, s):\n",
    "    \n",
    "    # if n is zero, the function adds S to the list s and returns S.\n",
    "    if n == 0: \n",
    "        s.append(S)\n",
    "        return S\n",
    "    \n",
    "    # initialize the variable with the current value of S\n",
    "    max_s = S \n",
    "    \n",
    "    # define a loop that iterates over all indices of marks from 0 to n-1\n",
    "    for i in range(n): \n",
    "        # create a copy of the marks list to avoid undesired modifications to the original list\n",
    "        marks_temporary = marks[:]\n",
    "        # assign the current value of marks to S_temporary\n",
    "        S_temporary = marks[i]\n",
    "\n",
    "        # if S is greater than S_temporary, the function calculates the difference S - S_temporary, \n",
    "        # removes the current element from marks_temporary, and updates all other elements by adding the difference\n",
    "        if S > S_temporary:\n",
    "            difference = S - S_temporary\n",
    "            marks_temporary.pop(i)\n",
    "            marks_temporary = [element + difference for element in marks_temporary]\n",
    "                               \n",
    "            # call the function recursively with the updated parameters\n",
    "            max_s = recursive_function(marks_temporary, S_temporary, n - 1, s) \n",
    "            \n",
    "        # if S_temporary is greater than S, calculate the difference as S_temporary - S, and \n",
    "        # update the marks_temporary list by subtracting the differences\n",
    "        else:\n",
    "            difference = S_temporary - S\n",
    "            marks_temporary.pop(i)\n",
    "            marks_temporary = [element - difference for element in marks_temporary]\n",
    "                               \n",
    "            # call the function recursively with the updated parameters\n",
    "            max_s = recursive_function(marks_temporary, S_temporary, n - 1, s)\n",
    "\n",
    "    return max(s)\n"
   ]
  },
  {
   "cell_type": "markdown",
   "id": "4dba85ba",
   "metadata": {},
   "source": [
    "Now, let's test it:"
   ]
  },
  {
   "cell_type": "code",
   "execution_count": 7,
   "id": "e3674106",
   "metadata": {},
   "outputs": [
    {
     "name": "stdout",
     "output_type": "stream",
     "text": [
      "8 \n",
      "[5, 7, 1]\n",
      "Max score: 11\n"
     ]
    }
   ],
   "source": [
    "marks_list = [5, 7, 1]\n",
    "initial_score = 8\n",
    "result = recursive_function(marks_list, initial_score, len(marks_list), [])\n",
    "print(f\"{initial_score} \\n{marks_list}\")\n",
    "print(\"Max score:\", result)"
   ]
  },
  {
   "cell_type": "code",
   "execution_count": 8,
   "id": "1f1b575f",
   "metadata": {},
   "outputs": [
    {
     "name": "stdout",
     "output_type": "stream",
     "text": [
      "25 \n",
      "[18, 24, 21, 32, 27]\n",
      "Max score: 44\n"
     ]
    }
   ],
   "source": [
    "marks_list = [18, 24, 21, 32, 27]\n",
    "s = []\n",
    "initial_score = 25\n",
    "result = recursive_function(marks_list, initial_score, len(marks_list), s)\n",
    "print(f\"{initial_score} \\n{marks_list}\")\n",
    "print(\"Max score:\", result)"
   ]
  },
  {
   "cell_type": "code",
   "execution_count": null,
   "id": "aca52f26",
   "metadata": {},
   "outputs": [],
   "source": [
    "marks_list = [13, 27, 41, 59, 28, 33, 39, 19, 52, 48, 55, 79]\n",
    "s = []\n",
    "initial_score = 30\n",
    "result = recursive_function(marks_list, initial_score, len(marks_list), s)\n",
    "print(f\"{initial_score} \\n{marks_list}\")\n",
    "print(\"Max score:\", result)"
   ]
  },
  {
   "cell_type": "markdown",
   "id": "cc184038",
   "metadata": {},
   "source": [
    "## **b) Computational complexity of the recursive algorithm**\n",
    "\n",
    "We are performing **O(n!)** operations. This is because the recursive function iterates through all possible permutations of the elements in marks, and the total number of permutations is n!.\n",
    "\n",
    "Given the very high computational complexity, the algorithm is highly inefficient."
   ]
  },
  {
   "cell_type": "markdown",
   "id": "859b85e6",
   "metadata": {},
   "source": [
    "## **c) Optimized Version**\n",
    "\n",
    "To optimize the time complexity, we are seeking a different approach from the recursive one:\n",
    "we can see that if the input has an odd length, the score does not depend on the initial score. \n",
    "\n",
    "Therefore, we can take the sorted list of marks, divide it into high_marks and low_marks, and subtract the sum of low_marks from the sum of high_marks. \n",
    "In case the marks list has an even length, we take the same result obtained previously and add it to the initial score."
   ]
  },
  {
   "cell_type": "code",
   "execution_count": 9,
   "id": "b045c2b3",
   "metadata": {},
   "outputs": [],
   "source": [
    "import numpy as np\n",
    "\n",
    "def optimized_function(S, marks):\n",
    "\n",
    "    # sort the array of scores in ascending order\n",
    "    sorted_marks = np.sort(marks)\n",
    "\n",
    "    # divide the sorted array in half, taking the low_marks and the high_marks\n",
    "    low_marks = sorted_marks[:len(sorted_marks)//2]\n",
    "    high_marks = sorted_marks[len(sorted_marks)//2:]\n",
    "\n",
    "    # calculate the score by subtracting the sum of low_marks from the sum of high_marks\n",
    "    score = sum(high_marks) - sum(low_marks)\n",
    "\n",
    "    # if the length of the original array is even, add the initial score (S)\n",
    "    if len(marks) % 2 == 0:\n",
    "        score += S\n",
    "\n",
    "    # return the calculated score\n",
    "    return score\n"
   ]
  },
  {
   "cell_type": "markdown",
   "id": "90f3ddf1",
   "metadata": {},
   "source": [
    "Let's test it:"
   ]
  },
  {
   "cell_type": "code",
   "execution_count": 10,
   "id": "de7308aa",
   "metadata": {},
   "outputs": [
    {
     "name": "stdout",
     "output_type": "stream",
     "text": [
      "8 \n",
      "[5, 7, 1]\n",
      "Max score: 11\n"
     ]
    }
   ],
   "source": [
    "marks_list = [5, 7, 1]\n",
    "initial_score = 8\n",
    "result = optimized_function(initial_score, marks_list)\n",
    "print(f\"{initial_score} \\n{marks_list}\")\n",
    "print(\"Max score:\", result)"
   ]
  },
  {
   "cell_type": "code",
   "execution_count": 11,
   "id": "bbc5e084",
   "metadata": {},
   "outputs": [
    {
     "name": "stdout",
     "output_type": "stream",
     "text": [
      "25 \n",
      "[18, 24, 21, 32, 27]\n",
      "Max score: 44\n"
     ]
    }
   ],
   "source": [
    "marks_list = [18, 24, 21, 32, 27]\n",
    "initial_score = 25\n",
    "result = optimized_function(initial_score, marks_list)\n",
    "print(f\"{initial_score} \\n{marks_list}\")\n",
    "print(\"Max score:\", result)"
   ]
  },
  {
   "cell_type": "code",
   "execution_count": 12,
   "id": "7ba97693",
   "metadata": {},
   "outputs": [
    {
     "name": "stdout",
     "output_type": "stream",
     "text": [
      "30 \n",
      "[13, 27, 41, 59, 28, 33, 39, 19, 52, 48, 55, 79]\n",
      "Max score: 205\n"
     ]
    }
   ],
   "source": [
    "marks_list = [13, 27, 41, 59, 28, 33, 39, 19, 52, 48, 55, 79]\n",
    "initial_score = 30\n",
    "result = optimized_function(initial_score, marks_list)\n",
    "print(f\"{initial_score} \\n{marks_list}\")\n",
    "print(\"Max score:\", result)"
   ]
  },
  {
   "cell_type": "markdown",
   "id": "7c93856f",
   "metadata": {},
   "source": [
    "Assuming n is the length of marks, we can say that:\n",
    "\n",
    "In this version, the first operation is the sorting of marks, which has a computational cost of **O(nlogn)**.\n",
    "\n",
    "Then the division of the array into high_marks and low_marks has an overall cost of **O(n)**.\n",
    "\n",
    "The calculation of the score also has a cost of **O(n)**.\n",
    "\n",
    "Therefore, the overall computational complexity will have a cost of **O(nlogn)**."
   ]
  },
  {
   "cell_type": "markdown",
   "id": "62c6c4dd",
   "metadata": {},
   "source": [
    "## **d) Now, let's see the third option provided by ChatGPT**"
   ]
  },
  {
   "cell_type": "code",
   "execution_count": 13,
   "id": "448d17c3",
   "metadata": {},
   "outputs": [],
   "source": [
    "import numpy as np\n",
    "\n",
    "def chat_gpt(S, marks):\n",
    "    # Convert the array to a NumPy array\n",
    "    marks = np.array(marks)\n",
    "    \n",
    "    # Find the median value\n",
    "    median = np.median(marks)\n",
    "    \n",
    "    # Divide the array based on the median value\n",
    "    low_marks = marks[marks < median]\n",
    "    high_marks = marks[marks >= median]\n",
    "\n",
    "    # Calculate the sum of the lower and higher scores\n",
    "    score = np.sum(high_marks) - np.sum(low_marks)\n",
    "\n",
    "    # If the length of the original array is even, add the initial score (S)\n",
    "    if len(marks) % 2 == 0:\n",
    "        score += S\n",
    "\n",
    "    # Return the calculated score\n",
    "    return score\n"
   ]
  },
  {
   "cell_type": "markdown",
   "id": "6a813962",
   "metadata": {},
   "source": [
    "Let's test it:"
   ]
  },
  {
   "cell_type": "code",
   "execution_count": 14,
   "id": "2b53c120",
   "metadata": {},
   "outputs": [
    {
     "name": "stdout",
     "output_type": "stream",
     "text": [
      "8 \n",
      "[5, 7, 1]\n",
      "Max score: 11\n"
     ]
    }
   ],
   "source": [
    "marks_list = [5, 7, 1]\n",
    "initial_score = 8\n",
    "result = chat_gpt(initial_score, marks_list)\n",
    "print(f\"{initial_score} \\n{marks_list}\")\n",
    "print(\"Max score:\", result)"
   ]
  },
  {
   "cell_type": "code",
   "execution_count": 15,
   "id": "c9a4a9ec",
   "metadata": {},
   "outputs": [
    {
     "name": "stdout",
     "output_type": "stream",
     "text": [
      "25 \n",
      "[18, 24, 21, 32, 27]\n",
      "Max score: 44\n"
     ]
    }
   ],
   "source": [
    "marks_list = [18, 24, 21, 32, 27]\n",
    "initial_score = 25\n",
    "result = chat_gpt(initial_score, marks_list)\n",
    "print(f\"{initial_score} \\n{marks_list}\")\n",
    "print(\"Max score:\", result)"
   ]
  },
  {
   "cell_type": "code",
   "execution_count": 16,
   "id": "4014455c",
   "metadata": {},
   "outputs": [
    {
     "name": "stdout",
     "output_type": "stream",
     "text": [
      "30 \n",
      "[13, 27, 41, 59, 28, 33, 39, 19, 52, 48, 55, 79]\n",
      "Max score: 205\n"
     ]
    }
   ],
   "source": [
    "marks_list = [13, 27, 41, 59, 28, 33, 39, 19, 52, 48, 55, 79]\n",
    "initial_score = 30\n",
    "result = chat_gpt(initial_score, marks_list)\n",
    "print(f\"{initial_score} \\n{marks_list}\")\n",
    "print(\"Max score:\", result)"
   ]
  },
  {
   "cell_type": "markdown",
   "id": "69f0f591",
   "metadata": {},
   "source": [
    "The computational complexity of this algorithm is **O(n)**, where n is the length of the array marks. This is because the runtime is dominated by operations of comparison and selection of elements based on the median value. The np.median function has a complexity of O(n) in the general case.\n",
    "\n",
    "In this way, we have avoided sorting, which has a cost of O(nlogn), and have achieved a complexity of O(n)."
   ]
  }
 ],
 "metadata": {
  "kernelspec": {
   "display_name": "Python 3 (ipykernel)",
   "language": "python",
   "name": "python3"
  },
  "language_info": {
   "codemirror_mode": {
    "name": "ipython",
    "version": 3
   },
   "file_extension": ".py",
   "mimetype": "text/x-python",
   "name": "python",
   "nbconvert_exporter": "python",
   "pygments_lexer": "ipython3",
   "version": "3.11.4"
  }
 },
 "nbformat": 4,
 "nbformat_minor": 5
}
